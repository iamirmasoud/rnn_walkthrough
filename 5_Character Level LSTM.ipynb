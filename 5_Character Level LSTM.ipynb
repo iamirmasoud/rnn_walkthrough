{
 "cells": [
  {
   "cell_type": "markdown",
   "metadata": {},
   "source": [
    "# Character-Level LSTM in PyTorch\n",
    "\n",
    "In this notebook, I'll construct a character-level LSTM with PyTorch. The network will train character by character on some text, then generate new text character by character. As an example, I will train on Anna Karenina. **This model will be able to generate new text based on the text from the book!**\n",
    "\n",
    "This network is based off of Andrej Karpathy's [post on RNNs](http://karpathy.github.io/2015/05/21/rnn-effectiveness/) and [implementation in Torch](https://github.com/karpathy/char-rnn). Below is the general architecture of the character-wise RNN.\n",
    "\n",
    "<img src=\"img/charseq.jpeg\" width=\"500\">"
   ]
  },
  {
   "cell_type": "markdown",
   "metadata": {},
   "source": [
    "First let's load in our required resources for data loading and model creation."
   ]
  },
  {
   "cell_type": "code",
   "execution_count": 1,
   "metadata": {},
   "outputs": [],
   "source": [
    "import numpy as np\n",
    "import torch\n",
    "from torch import nn\n",
    "import torch.nn.functional as F\n",
    "import os"
   ]
  },
  {
   "cell_type": "markdown",
   "metadata": {},
   "source": [
    "## Load in Data\n",
    "\n",
    "Then, we'll load the Anna Karenina text file and convert it into integers for our network to use. \n",
    "\n",
    "### Tokenization\n",
    "\n",
    "In the second cell, below, I'm creating a couple **dictionaries** to convert the characters to and from integers. Encoding the characters as integers makes it easier to use as input in the network."
   ]
  },
  {
   "cell_type": "code",
   "execution_count": 2,
   "metadata": {},
   "outputs": [],
   "source": [
    "# open text file and read in data as `text`\n",
    "with open(os.path.join(\"data\", \"anna.txt\"), \"r\") as f:\n",
    "    text = f.read()"
   ]
  },
  {
   "cell_type": "markdown",
   "metadata": {},
   "source": [
    "Now we have the text, encode it as integers."
   ]
  },
  {
   "cell_type": "code",
   "execution_count": 3,
   "metadata": {},
   "outputs": [],
   "source": [
    "# encode the text and map each character to an integer and vice versa\n",
    "\n",
    "# we create two dictonaries:\n",
    "# 1. int2char, which maps integers to characters\n",
    "# 2. char2int, which maps characters to unique integers\n",
    "chars = tuple(set(text))\n",
    "int2char = dict(enumerate(chars))\n",
    "char2int = {ch: ii for ii, ch in int2char.items()}\n",
    "encoded = np.array([char2int[ch] for ch in text])"
   ]
  },
  {
   "cell_type": "code",
   "execution_count": 4,
   "metadata": {},
   "outputs": [
    {
     "data": {
      "text/plain": [
       "('X',\n",
       " '6',\n",
       " 'y',\n",
       " 'H',\n",
       " 'l',\n",
       " 'e',\n",
       " 'u',\n",
       " 'E',\n",
       " '2',\n",
       " '5',\n",
       " 'T',\n",
       " '@',\n",
       " 'U',\n",
       " '-',\n",
       " 'R',\n",
       " 'd',\n",
       " \"'\",\n",
       " 'f',\n",
       " ':',\n",
       " 'j',\n",
       " '_',\n",
       " '\\n',\n",
       " 'm',\n",
       " '`',\n",
       " 'J',\n",
       " 'w',\n",
       " '*',\n",
       " 'b',\n",
       " 'Q',\n",
       " 'V',\n",
       " 'r',\n",
       " 'i',\n",
       " 'g',\n",
       " 'o',\n",
       " 'K',\n",
       " 'M',\n",
       " 'S',\n",
       " ')',\n",
       " 'a',\n",
       " '(',\n",
       " 'h',\n",
       " 't',\n",
       " '$',\n",
       " 'x',\n",
       " 'v',\n",
       " ' ',\n",
       " '&',\n",
       " '\"',\n",
       " 'F',\n",
       " 'n',\n",
       " '/',\n",
       " 'p',\n",
       " 'O',\n",
       " '8',\n",
       " 's',\n",
       " 'k',\n",
       " 'c',\n",
       " 'I',\n",
       " 'W',\n",
       " '.',\n",
       " '?',\n",
       " 'z',\n",
       " 'L',\n",
       " '9',\n",
       " '%',\n",
       " '0',\n",
       " '4',\n",
       " 'q',\n",
       " '3',\n",
       " ';',\n",
       " 'B',\n",
       " '!',\n",
       " '7',\n",
       " 'N',\n",
       " 'Z',\n",
       " 'D',\n",
       " '1',\n",
       " 'Y',\n",
       " 'P',\n",
       " 'A',\n",
       " ',',\n",
       " 'C',\n",
       " 'G')"
      ]
     },
     "execution_count": 4,
     "metadata": {},
     "output_type": "execute_result"
    }
   ],
   "source": [
    "chars"
   ]
  },
  {
   "cell_type": "markdown",
   "metadata": {},
   "source": [
    "Let's check out the first 100 characters, make sure everything is peachy. According to the [American Book Review](http://americanbookreview.org/100bestlines.asp), this is the 6th best first line of a book ever."
   ]
  },
  {
   "cell_type": "code",
   "execution_count": 5,
   "metadata": {},
   "outputs": [
    {
     "data": {
      "text/plain": [
       "'Chapter 1\\n\\n\\nHappy families are all alike; every unhappy family is unhappy in its own\\nway.\\n\\nEverythin'"
      ]
     },
     "execution_count": 5,
     "metadata": {},
     "output_type": "execute_result"
    }
   ],
   "source": [
    "text[:100]"
   ]
  },
  {
   "cell_type": "markdown",
   "metadata": {},
   "source": [
    "And we can see those same characters encoded as integers."
   ]
  },
  {
   "cell_type": "code",
   "execution_count": 6,
   "metadata": {},
   "outputs": [
    {
     "data": {
      "text/plain": [
       "array([81, 40, 38, 51, 41,  5, 30, 45, 76, 21, 21, 21,  3, 38, 51, 51,  2,\n",
       "       45, 17, 38, 22, 31,  4, 31,  5, 54, 45, 38, 30,  5, 45, 38,  4,  4,\n",
       "       45, 38,  4, 31, 55,  5, 69, 45,  5, 44,  5, 30,  2, 45,  6, 49, 40,\n",
       "       38, 51, 51,  2, 45, 17, 38, 22, 31,  4,  2, 45, 31, 54, 45,  6, 49,\n",
       "       40, 38, 51, 51,  2, 45, 31, 49, 45, 31, 41, 54, 45, 33, 25, 49, 21,\n",
       "       25, 38,  2, 59, 21, 21,  7, 44,  5, 30,  2, 41, 40, 31, 49])"
      ]
     },
     "execution_count": 6,
     "metadata": {},
     "output_type": "execute_result"
    }
   ],
   "source": [
    "encoded[:100]"
   ]
  },
  {
   "cell_type": "markdown",
   "metadata": {},
   "source": [
    "## Pre-processing the data\n",
    "\n",
    "As you can see in our char-RNN image above, our LSTM expects an input that is **one-hot encoded** meaning that each character is converted into an intgere (via our created dictionary) and *then* converted into a column vector where only it's corresponsing integer index will have the value of 1 and the rest of the vector will be filled with 0's. Since we're one-hot encoding the data, let's make a function to do that!\n"
   ]
  },
  {
   "cell_type": "code",
   "execution_count": 7,
   "metadata": {},
   "outputs": [],
   "source": [
    "def one_hot_encode(arr, n_labels):\n",
    "\n",
    "    # Initialize the the encoded array\n",
    "    one_hot = np.zeros((np.multiply(*arr.shape), n_labels), dtype=np.float32)\n",
    "\n",
    "    # Fill the appropriate elements with ones\n",
    "    one_hot[np.arange(one_hot.shape[0]), arr.flatten()] = 1.0\n",
    "\n",
    "    # Finally reshape it to get back to the original array\n",
    "    one_hot = one_hot.reshape((*arr.shape, n_labels))\n",
    "\n",
    "    return one_hot"
   ]
  },
  {
   "cell_type": "markdown",
   "metadata": {},
   "source": [
    "## Making training mini-batches\n",
    "\n",
    "\n",
    "To train on this data, we also want to create mini-batches for training. Remember that we want our batches to be multiple sequences of some desired number of sequence steps. Considering a simple example, our batches would look like this:\n",
    "\n",
    "<img src=\"img/sequence_batching@1x.png\" width=500px>\n",
    "\n",
    "\n",
    "<br>\n",
    "\n",
    "In this example, we'll take the encoded characters (passed in as the `arr` parameter) and split them into multiple sequences, given by `n_seqs` (also refered to as \"batch size\" in other places). Each of those sequences will be `n_steps` long.\n",
    "\n",
    "### Creating Batches\n",
    "\n",
    "_1. The first thing we need to do is discard some of the text so we only have completely full batches._\n",
    "\n",
    "Each batch contains $N \\times M$ characters, where $N$ is the batch size (the number of sequences) and $M$ is the number of steps. Then, to get the total number of batches, $K$, we can make from the array `arr`, we divide the length of `arr` by the number of characters per batch. Once we know the number of batches, we can get the total number of characters to keep from `arr`, $N * M * K$.\n",
    "\n",
    "*2. After that, we need to split `arr` into $N$ sequences.* \n",
    "\n",
    "We can do this using `arr.reshape(size)` where `size` is a tuple containing the dimensions sizes of the reshaped array. We know we want $N$ sequences, so let's make that the size of the first dimension. For the second dimension, we can use `-1` as a placeholder in the size, it'll fill up the array with the appropriate data for us. After this, we will have an array that is $N \\times (M * K)$.\n",
    "\n",
    "*3. Now that we have this array, we can iterate through it to get our batches.*\n",
    "\n",
    "The idea is each batch is a $N \\times M$ window on the $N \\times (M * K)$ array. For each subsequent batch, the window moves over by `n_steps`. We also want to create both the input and target arrays. Remember that the targets are the inputs shifted over one character. The way I like to do this window is use `range` to take steps of size `n_steps` from $0$ to `arr.shape[1]`, the total number of steps in each sequence. That way, the integers we get from `range` always point to the start of a batch, and each window is `n_steps` wide. The function below creates batches."
   ]
  },
  {
   "cell_type": "code",
   "execution_count": 8,
   "metadata": {},
   "outputs": [],
   "source": [
    "def get_batches(arr, n_seqs, n_steps):\n",
    "    \"\"\"Create a generator that returns batches of size\n",
    "    n_seqs x n_steps from arr.\n",
    "\n",
    "    Arguments\n",
    "    ---------\n",
    "    arr: Array to make batches from\n",
    "    n_seqs: Batch size, the number of sequences per batch\n",
    "    n_steps: Number of sequence steps per batch\n",
    "    \"\"\"\n",
    "\n",
    "    batch_size = n_seqs * n_steps\n",
    "    n_batches = len(arr) // batch_size\n",
    "\n",
    "    # Keep only enough characters to make full batches\n",
    "    arr = arr[: n_batches * batch_size]\n",
    "\n",
    "    # Reshape into n_seqs rows\n",
    "    arr = arr.reshape((n_seqs, -1))\n",
    "\n",
    "    # print(arr.shape, arr.shape[1])\n",
    "\n",
    "    for n in range(0, arr.shape[1], n_steps):\n",
    "        # The features\n",
    "        x = arr[:, n : n + n_steps]\n",
    "        # print(f'{n}:{n+n_steps}')\n",
    "\n",
    "        # The targets, shifted by one\n",
    "        y = np.zeros_like(x)\n",
    "        try:\n",
    "            y[:, :-1], y[:, -1] = x[:, 1:], arr[:, n + n_steps]\n",
    "        except IndexError:\n",
    "            y[:, :-1], y[:, -1] = x[:, 1:], arr[:, 0]\n",
    "        yield x, y"
   ]
  },
  {
   "cell_type": "markdown",
   "metadata": {},
   "source": [
    "### Testing the implementation\n",
    "\n",
    "Now I'll make some data sets and we can check out what's going on as we batch data. Here, as an example, I'm going to use a batch size of 10 and 50 sequence steps."
   ]
  },
  {
   "cell_type": "code",
   "execution_count": 9,
   "metadata": {},
   "outputs": [],
   "source": [
    "batches = get_batches(encoded, 10, 3)\n",
    "x, y = next(batches)"
   ]
  },
  {
   "cell_type": "code",
   "execution_count": 10,
   "metadata": {},
   "outputs": [
    {
     "data": {
      "text/plain": [
       "array([81, 40, 38, 51, 41,  5, 30, 45, 76, 21, 21])"
      ]
     },
     "execution_count": 10,
     "metadata": {},
     "output_type": "execute_result"
    }
   ],
   "source": [
    "encoded[:11]"
   ]
  },
  {
   "cell_type": "code",
   "execution_count": 11,
   "metadata": {},
   "outputs": [
    {
     "name": "stdout",
     "output_type": "stream",
     "text": [
      "x\n",
      " [[81 40 38]\n",
      " [47 45 38]\n",
      " [17 31 56]\n",
      " [44 31 33]\n",
      " [15 45 62]\n",
      " [ 5 38 30]\n",
      " [45 54 38]\n",
      " [21 47 77]\n",
      " [10 40 38]\n",
      " [54 41 80]]\n",
      "\n",
      "y\n",
      " [[40 38 51]\n",
      " [45 38 49]\n",
      " [31 56  5]\n",
      " [31 33  6]\n",
      " [45 62  5]\n",
      " [38 30 13]\n",
      " [54 38 25]\n",
      " [47 77 33]\n",
      " [40 38 41]\n",
      " [41 80 45]]\n"
     ]
    }
   ],
   "source": [
    "print(\"x\\n\", x[:10, :10])\n",
    "print(\"\\ny\\n\", y[:10, :10])"
   ]
  },
  {
   "cell_type": "markdown",
   "metadata": {},
   "source": [
    "Note that the data is shifted over one step for `y`."
   ]
  },
  {
   "cell_type": "markdown",
   "metadata": {},
   "source": [
    "---\n",
    "## Defining the network with PyTorch\n",
    "\n",
    "Below is where we'll define the network. We'll break it up into parts so it's easier to reason about each bit. Then we can connect them up into the whole network.\n",
    "\n",
    "<img src=\"img/charRNN.png\" width=500px>\n",
    "\n",
    "Next, we'll use PyTorch to define the architecture of the network. We start by defining the layers and operations we want and then, a method for the forward pass. We've also defined a method for predicting characters."
   ]
  },
  {
   "cell_type": "markdown",
   "metadata": {},
   "source": [
    "### Model Structure\n",
    "\n",
    "In `__init__` structure is as follows:\n",
    "* Create and store the necessary dictionaries\n",
    "* Define an LSTM layer that takes as params: an input size (the number of characters), a hidden layer size `n_hidden`, a number of layers `n_layers`, a dropout probability `drop_prob`, and a batch_first boolean (True, since we are batching)\n",
    "* Define a dropout layer with `dropout_prob`\n",
    "* Define a fully-connected layer with params: input size `n_hidden` and output size (the number of characters)\n",
    "* Finally, initialize the weights"
   ]
  },
  {
   "cell_type": "markdown",
   "metadata": {},
   "source": [
    "---\n",
    "### LSTM Inputs/Outputs\n",
    "\n",
    "We can create a basic LSTM cell as follows:\n",
    "\n",
    "```python\n",
    "self.lstm = nn.LSTM(input_size, n_hidden, n_layers, \n",
    "                            dropout=drop_prob, batch_first=True)\n",
    "```\n",
    "\n",
    "where `input_size` is the number of characters this cell expects to see as sequential input, and `n_hidden` is the number of units in the hidden layers in the cell. And we can add dropout by adding a dropout parameter with a specified probability; this will automatically add dropout to the inputs or outputs. Finally, in the `forward` function, we can stack up the LSTM cells into layers using `.view`. With this, we pass in a list of cells and it will send the output of one cell into the next cell.\n",
    "\n",
    "We also need to create an initial cell state of all zeros. This is done like so\n",
    "\n",
    "```python\n",
    "self.init_weights()\n",
    "```"
   ]
  },
  {
   "cell_type": "code",
   "execution_count": 17,
   "metadata": {},
   "outputs": [],
   "source": [
    "class CharRNN(nn.Module):\n",
    "    def __init__(\n",
    "        self, tokens, n_steps=100, n_hidden=256, n_layers=2, drop_prob=0.5, lr=0.001\n",
    "    ):\n",
    "        super().__init__()\n",
    "        self.drop_prob = drop_prob\n",
    "        self.n_layers = n_layers\n",
    "        self.n_hidden = n_hidden\n",
    "        self.lr = lr\n",
    "\n",
    "        # creating character dictionaries\n",
    "        self.chars = tokens  # vocab, unique chars\n",
    "        self.int2char = dict(enumerate(self.chars))\n",
    "        self.char2int = {ch: ii for ii, ch in self.int2char.items()}\n",
    "\n",
    "        # define the LSTM\n",
    "        self.lstm = nn.LSTM(\n",
    "            len(self.chars), n_hidden, n_layers, dropout=drop_prob, batch_first=True\n",
    "        )\n",
    "\n",
    "        # define a dropout layer\n",
    "        self.dropout = nn.Dropout(drop_prob)\n",
    "\n",
    "        # define the final, fully-connected output layer\n",
    "        self.fc = nn.Linear(n_hidden, len(self.chars))\n",
    "\n",
    "        # initialize the weights\n",
    "        self.init_weights()\n",
    "\n",
    "    def forward(self, x, hc):\n",
    "        \"\"\"Forward pass through the network.\n",
    "        These inputs are x, and the hidden/cell state `hc`.\"\"\"\n",
    "\n",
    "        # Get x, and the new hidden state (h, c) from the lstm\n",
    "        x, (h, c) = self.lstm(x, hc)\n",
    "\n",
    "        # pass x through a droupout layer\n",
    "        x = self.dropout(x)\n",
    "\n",
    "        # print(x.shape, x.size()[0], x.size()[1]) # batch_size = n_seq\n",
    "\n",
    "        # Stack up LSTM outputs using view\n",
    "        x = x.reshape(x.size()[0] * x.size()[1], self.n_hidden)\n",
    "\n",
    "        # put x through the fully-connected layer\n",
    "        x = self.fc(x)\n",
    "\n",
    "        # print(x.shape)\n",
    "        # return x and the hidden state (h, c)\n",
    "        return x, (h, c)\n",
    "\n",
    "    def predict(self, char, h=None, cuda=False, top_k=None):\n",
    "        \"\"\"Given a character, predict the next character.\n",
    "\n",
    "        Returns the predicted character and the hidden state.\n",
    "        \"\"\"\n",
    "        if cuda:\n",
    "            self.cuda()\n",
    "        else:\n",
    "            self.cpu()\n",
    "\n",
    "        if h is None:\n",
    "            h = self.init_hidden(1)\n",
    "\n",
    "        x = np.array([[self.char2int[char]]])\n",
    "        x = one_hot_encode(x, len(self.chars))\n",
    "\n",
    "        inputs = torch.from_numpy(x)\n",
    "\n",
    "        if cuda:\n",
    "            inputs = inputs.cuda()\n",
    "\n",
    "        h = tuple([each.data for each in h])\n",
    "        out, h = self.forward(inputs, h)\n",
    "\n",
    "        p = F.softmax(out, dim=1).data\n",
    "        if cuda:\n",
    "            p = p.cpu()\n",
    "\n",
    "        if top_k is None:\n",
    "            top_ch = np.arange(len(self.chars))\n",
    "\n",
    "        else:\n",
    "            p, top_ch = p.topk(top_k)\n",
    "            top_ch = top_ch.numpy().squeeze()\n",
    "\n",
    "        p = p.numpy().squeeze()\n",
    "        char = np.random.choice(top_ch, p=p / p.sum())\n",
    "\n",
    "        return self.int2char[char], h\n",
    "\n",
    "    def init_weights(self):\n",
    "        \"\"\"Initialize weights for fully connected layer\"\"\"\n",
    "        initrange = 0.1\n",
    "\n",
    "        # Set bias tensor to all zeros\n",
    "        self.fc.bias.data.fill_(0)\n",
    "        # FC weights as random uniform\n",
    "        self.fc.weight.data.uniform_(-1, 1)\n",
    "\n",
    "    def init_hidden(self, n_seqs):\n",
    "        \"\"\"Initializes hidden state\"\"\"\n",
    "        # Create two new tensors with sizes n_layers x n_seqs x n_hidden,\n",
    "        # initialized to zero, for hidden state and cell state of LSTM\n",
    "        weight = next(self.parameters()).data\n",
    "        return (\n",
    "            weight.new(self.n_layers, n_seqs, self.n_hidden).zero_(),\n",
    "            weight.new(self.n_layers, n_seqs, self.n_hidden).zero_(),\n",
    "        )"
   ]
  },
  {
   "cell_type": "markdown",
   "metadata": {},
   "source": [
    "### A note on the `predict`  function\n",
    "\n",
    "The output of our RNN is from a fully-connected layer and it outputs a **distribution of next-character scores**.\n",
    "\n",
    "To actually get the next character, we apply a softmax function, which gives us a *probability* distribution that we can then sample to predict the next character."
   ]
  },
  {
   "cell_type": "code",
   "execution_count": 46,
   "metadata": {},
   "outputs": [],
   "source": [
    "def train(\n",
    "    net,\n",
    "    data,\n",
    "    epochs=10,\n",
    "    n_seqs=10,\n",
    "    n_steps=50,\n",
    "    lr=0.001,\n",
    "    clip=5,\n",
    "    val_frac=0.1,\n",
    "    cuda=False,\n",
    "    print_every=10,\n",
    "):\n",
    "    \"\"\"Training a network\n",
    "\n",
    "    Arguments\n",
    "    ---------\n",
    "\n",
    "    net: CharRNN network\n",
    "    data: text data to train the network\n",
    "    epochs: Number of epochs to train\n",
    "    n_seqs: Number of mini-sequences per mini-batch, aka batch size\n",
    "    n_steps: Number of character steps per mini-batch\n",
    "    lr: learning rate\n",
    "    clip: gradient clipping\n",
    "    val_frac: Fraction of data to hold out for validation\n",
    "    cuda: Train with CUDA on a GPU\n",
    "    print_every: Number of steps for printing training and validation loss\n",
    "\n",
    "    \"\"\"\n",
    "    losses = []\n",
    "    net.train()\n",
    "    opt = torch.optim.Adam(net.parameters(), lr=lr)\n",
    "    criterion = nn.CrossEntropyLoss()\n",
    "\n",
    "    # create training and validation data\n",
    "    val_idx = int(len(data) * (1 - val_frac))\n",
    "    data, val_data = data[:val_idx], data[val_idx:]\n",
    "\n",
    "    if cuda:\n",
    "        net.cuda()\n",
    "\n",
    "    counter = 0\n",
    "    n_chars = len(net.chars)\n",
    "    for e in range(epochs):\n",
    "        h = net.init_hidden(n_seqs)\n",
    "\n",
    "        for x, y in get_batches(data, n_seqs, n_steps):\n",
    "            counter += 1\n",
    "\n",
    "            # One-hot encode our data and make them Torch tensors\n",
    "            x = one_hot_encode(x, n_chars)\n",
    "\n",
    "            inputs, targets = torch.from_numpy(x), torch.from_numpy(y)\n",
    "\n",
    "            if cuda:\n",
    "                inputs, targets = inputs.cuda(), targets.cuda()\n",
    "\n",
    "            targets = targets.long()\n",
    "\n",
    "            # Creating new variables for the hidden state, otherwise\n",
    "            # we'd backprop through the entire training history\n",
    "            h = tuple([each.data for each in h])\n",
    "\n",
    "            net.zero_grad()\n",
    "\n",
    "            # if counter == 1:\n",
    "            #     print(inputs.shape, targets.shape)\n",
    "\n",
    "            output, h = net.forward(inputs, h)\n",
    "\n",
    "            # if counter == 1:\n",
    "            #     print(output.shape, targets.shape, targets.view(n_seqs*n_steps).shape)\n",
    "\n",
    "            loss = criterion(output, targets.view(n_seqs * n_steps))\n",
    "\n",
    "            loss.backward()\n",
    "\n",
    "            losses.append(loss.item())\n",
    "\n",
    "            # `clip_grad_norm` helps prevent the exploding gradient problem in RNNs / LSTMs.\n",
    "            nn.utils.clip_grad_norm_(net.parameters(), clip)\n",
    "\n",
    "            opt.step()\n",
    "\n",
    "            # LOSS on validation set\n",
    "            if counter % print_every == 0:\n",
    "\n",
    "                # Get validation loss\n",
    "                val_h = net.init_hidden(n_seqs)\n",
    "                val_losses = []\n",
    "\n",
    "                for x, y in get_batches(val_data, n_seqs, n_steps):\n",
    "                    # One-hot encode our data and make them Torch tensors\n",
    "                    x = one_hot_encode(x, n_chars)\n",
    "                    x, y = torch.from_numpy(x), torch.from_numpy(y)\n",
    "\n",
    "                    # Creating new variables for the hidden state, otherwise\n",
    "                    # we'd backprop through the entire training history\n",
    "                    val_h = tuple([each.data for each in val_h])\n",
    "\n",
    "                    inputs, targets = x, y\n",
    "                    if cuda:\n",
    "                        inputs, targets = inputs.cuda(), targets.cuda()\n",
    "\n",
    "                    targets = targets.long()\n",
    "\n",
    "                    output, val_h = net.forward(inputs, val_h)\n",
    "                    val_loss = criterion(output, targets.view(n_seqs * n_steps))\n",
    "\n",
    "                    val_losses.append(val_loss.item())\n",
    "\n",
    "                print(\n",
    "                    \"Epoch: {}/{}...\".format(e + 1, epochs),\n",
    "                    \"Step: {}...\".format(counter),\n",
    "                    \"Loss: {:.4f}...\".format(loss.item()),\n",
    "                    \"Val Loss: {:.4f}\".format(np.mean(val_losses)),\n",
    "                )\n",
    "    return losses, val_losses"
   ]
  },
  {
   "cell_type": "markdown",
   "metadata": {},
   "source": [
    "## Time to train\n",
    "\n",
    "Now we can actually train the network. First we'll create the network itself, with some given hyperparameters. Then, define the mini-batches sizes (number of sequences and number of steps), and start the training. With the train function, we can set the number of epochs, the learning rate, and other parameters. Also, we can run the training on a GPU by setting `cuda=True`."
   ]
  },
  {
   "cell_type": "code",
   "execution_count": 47,
   "metadata": {},
   "outputs": [],
   "source": [
    "if \"net\" in locals():\n",
    "    del net"
   ]
  },
  {
   "cell_type": "code",
   "execution_count": 48,
   "metadata": {},
   "outputs": [
    {
     "name": "stdout",
     "output_type": "stream",
     "text": [
      "CharRNN(\n",
      "  (lstm): LSTM(83, 512, num_layers=2, batch_first=True, dropout=0.5)\n",
      "  (dropout): Dropout(p=0.5, inplace=False)\n",
      "  (fc): Linear(in_features=512, out_features=83, bias=True)\n",
      ")\n"
     ]
    }
   ],
   "source": [
    "# define and print the net\n",
    "net = CharRNN(chars, n_hidden=512, n_layers=2)\n",
    "print(net)"
   ]
  },
  {
   "cell_type": "code",
   "execution_count": 49,
   "metadata": {
    "scrolled": true
   },
   "outputs": [
    {
     "name": "stdout",
     "output_type": "stream",
     "text": [
      "Epoch: 1/25... Step: 10... Loss: 3.3146... Val Loss: 3.2942\n",
      "Epoch: 1/25... Step: 20... Loss: 3.1714... Val Loss: 3.1828\n",
      "Epoch: 1/25... Step: 30... Loss: 3.0781... Val Loss: 3.0530\n",
      "Epoch: 1/25... Step: 40... Loss: 2.8739... Val Loss: 2.8825\n",
      "Epoch: 1/25... Step: 50... Loss: 2.7442... Val Loss: 2.7282\n",
      "Epoch: 1/25... Step: 60... Loss: 2.6226... Val Loss: 2.6305\n",
      "Epoch: 1/25... Step: 70... Loss: 2.5496... Val Loss: 2.5664\n",
      "Epoch: 1/25... Step: 80... Loss: 2.4778... Val Loss: 2.5075\n",
      "Epoch: 1/25... Step: 90... Loss: 2.4485... Val Loss: 2.4650\n",
      "Epoch: 1/25... Step: 100... Loss: 2.4040... Val Loss: 2.4309\n",
      "Epoch: 1/25... Step: 110... Loss: 2.3539... Val Loss: 2.3995\n",
      "Epoch: 1/25... Step: 120... Loss: 2.3029... Val Loss: 2.3692\n",
      "Epoch: 1/25... Step: 130... Loss: 2.3169... Val Loss: 2.3431\n",
      "Epoch: 2/25... Step: 140... Loss: 2.2776... Val Loss: 2.3258\n",
      "Epoch: 2/25... Step: 150... Loss: 2.2472... Val Loss: 2.3136\n",
      "Epoch: 2/25... Step: 160... Loss: 2.2315... Val Loss: 2.2720\n",
      "Epoch: 2/25... Step: 170... Loss: 2.2037... Val Loss: 2.2483\n",
      "Epoch: 2/25... Step: 180... Loss: 2.1489... Val Loss: 2.2278\n",
      "Epoch: 2/25... Step: 190... Loss: 2.0967... Val Loss: 2.2000\n",
      "Epoch: 2/25... Step: 200... Loss: 2.0964... Val Loss: 2.1790\n",
      "Epoch: 2/25... Step: 210... Loss: 2.0993... Val Loss: 2.1552\n",
      "Epoch: 2/25... Step: 220... Loss: 2.0466... Val Loss: 2.1364\n",
      "Epoch: 2/25... Step: 230... Loss: 2.0604... Val Loss: 2.1180\n",
      "Epoch: 2/25... Step: 240... Loss: 2.0451... Val Loss: 2.1027\n",
      "Epoch: 2/25... Step: 250... Loss: 1.9969... Val Loss: 2.0833\n",
      "Epoch: 2/25... Step: 260... Loss: 1.9541... Val Loss: 2.0687\n",
      "Epoch: 2/25... Step: 270... Loss: 1.9852... Val Loss: 2.0552\n",
      "Epoch: 3/25... Step: 280... Loss: 1.9772... Val Loss: 2.0414\n",
      "Epoch: 3/25... Step: 290... Loss: 1.9686... Val Loss: 2.0306\n",
      "Epoch: 3/25... Step: 300... Loss: 1.9379... Val Loss: 2.0092\n",
      "Epoch: 3/25... Step: 310... Loss: 1.9173... Val Loss: 2.0180\n",
      "Epoch: 3/25... Step: 320... Loss: 1.8831... Val Loss: 2.0111\n",
      "Epoch: 3/25... Step: 330... Loss: 1.8690... Val Loss: 2.0001\n",
      "Epoch: 3/25... Step: 340... Loss: 1.9216... Val Loss: 1.9593\n",
      "Epoch: 3/25... Step: 350... Loss: 1.8747... Val Loss: 1.9483\n",
      "Epoch: 3/25... Step: 360... Loss: 1.8308... Val Loss: 1.9365\n",
      "Epoch: 3/25... Step: 370... Loss: 1.8475... Val Loss: 1.9277\n",
      "Epoch: 3/25... Step: 380... Loss: 1.8484... Val Loss: 1.9202\n",
      "Epoch: 3/25... Step: 390... Loss: 1.8043... Val Loss: 1.9189\n",
      "Epoch: 3/25... Step: 400... Loss: 1.7761... Val Loss: 1.8992\n",
      "Epoch: 3/25... Step: 410... Loss: 1.8088... Val Loss: 1.8882\n",
      "Epoch: 4/25... Step: 420... Loss: 1.7996... Val Loss: 1.8804\n",
      "Epoch: 4/25... Step: 430... Loss: 1.7968... Val Loss: 1.8689\n",
      "Epoch: 4/25... Step: 440... Loss: 1.7723... Val Loss: 1.8601\n",
      "Epoch: 4/25... Step: 450... Loss: 1.7243... Val Loss: 1.8557\n",
      "Epoch: 4/25... Step: 460... Loss: 1.7169... Val Loss: 1.8509\n",
      "Epoch: 4/25... Step: 470... Loss: 1.7713... Val Loss: 1.8332\n",
      "Epoch: 4/25... Step: 480... Loss: 1.7455... Val Loss: 1.8298\n",
      "Epoch: 4/25... Step: 490... Loss: 1.7466... Val Loss: 1.8264\n",
      "Epoch: 4/25... Step: 500... Loss: 1.7363... Val Loss: 1.8117\n",
      "Epoch: 4/25... Step: 510... Loss: 1.7071... Val Loss: 1.8066\n",
      "Epoch: 4/25... Step: 520... Loss: 1.7182... Val Loss: 1.7953\n",
      "Epoch: 4/25... Step: 530... Loss: 1.6967... Val Loss: 1.7897\n",
      "Epoch: 4/25... Step: 540... Loss: 1.6540... Val Loss: 1.7854\n",
      "Epoch: 4/25... Step: 550... Loss: 1.7132... Val Loss: 1.7756\n",
      "Epoch: 5/25... Step: 560... Loss: 1.6743... Val Loss: 1.7755\n",
      "Epoch: 5/25... Step: 570... Loss: 1.6628... Val Loss: 1.7674\n",
      "Epoch: 5/25... Step: 580... Loss: 1.6474... Val Loss: 1.7587\n",
      "Epoch: 5/25... Step: 590... Loss: 1.6351... Val Loss: 1.7518\n",
      "Epoch: 5/25... Step: 600... Loss: 1.6356... Val Loss: 1.7430\n",
      "Epoch: 5/25... Step: 610... Loss: 1.6094... Val Loss: 1.7345\n",
      "Epoch: 5/25... Step: 620... Loss: 1.6265... Val Loss: 1.7401\n",
      "Epoch: 5/25... Step: 630... Loss: 1.6448... Val Loss: 1.7277\n",
      "Epoch: 5/25... Step: 640... Loss: 1.6023... Val Loss: 1.7228\n",
      "Epoch: 5/25... Step: 650... Loss: 1.6107... Val Loss: 1.7195\n",
      "Epoch: 5/25... Step: 660... Loss: 1.5911... Val Loss: 1.7096\n",
      "Epoch: 5/25... Step: 670... Loss: 1.6153... Val Loss: 1.7068\n",
      "Epoch: 5/25... Step: 680... Loss: 1.6022... Val Loss: 1.6956\n",
      "Epoch: 5/25... Step: 690... Loss: 1.5729... Val Loss: 1.6975\n",
      "Epoch: 6/25... Step: 700... Loss: 1.5852... Val Loss: 1.6927\n",
      "Epoch: 6/25... Step: 710... Loss: 1.5753... Val Loss: 1.6885\n",
      "Epoch: 6/25... Step: 720... Loss: 1.5589... Val Loss: 1.6895\n",
      "Epoch: 6/25... Step: 730... Loss: 1.5789... Val Loss: 1.6759\n",
      "Epoch: 6/25... Step: 740... Loss: 1.5486... Val Loss: 1.6816\n",
      "Epoch: 6/25... Step: 750... Loss: 1.5330... Val Loss: 1.6659\n",
      "Epoch: 6/25... Step: 760... Loss: 1.5782... Val Loss: 1.6672\n",
      "Epoch: 6/25... Step: 770... Loss: 1.5468... Val Loss: 1.6591\n",
      "Epoch: 6/25... Step: 780... Loss: 1.5332... Val Loss: 1.6560\n",
      "Epoch: 6/25... Step: 790... Loss: 1.5168... Val Loss: 1.6512\n",
      "Epoch: 6/25... Step: 800... Loss: 1.5537... Val Loss: 1.6435\n",
      "Epoch: 6/25... Step: 810... Loss: 1.5185... Val Loss: 1.6454\n",
      "Epoch: 6/25... Step: 820... Loss: 1.4805... Val Loss: 1.6376\n",
      "Epoch: 6/25... Step: 830... Loss: 1.5305... Val Loss: 1.6351\n",
      "Epoch: 7/25... Step: 840... Loss: 1.4905... Val Loss: 1.6319\n",
      "Epoch: 7/25... Step: 850... Loss: 1.5157... Val Loss: 1.6251\n",
      "Epoch: 7/25... Step: 860... Loss: 1.4784... Val Loss: 1.6283\n",
      "Epoch: 7/25... Step: 870... Loss: 1.4978... Val Loss: 1.6340\n",
      "Epoch: 7/25... Step: 880... Loss: 1.5031... Val Loss: 1.6204\n",
      "Epoch: 7/25... Step: 890... Loss: 1.4975... Val Loss: 1.6123\n",
      "Epoch: 7/25... Step: 900... Loss: 1.5008... Val Loss: 1.6098\n",
      "Epoch: 7/25... Step: 910... Loss: 1.4568... Val Loss: 1.6100\n",
      "Epoch: 7/25... Step: 920... Loss: 1.4774... Val Loss: 1.6022\n",
      "Epoch: 7/25... Step: 930... Loss: 1.4694... Val Loss: 1.6011\n",
      "Epoch: 7/25... Step: 940... Loss: 1.4762... Val Loss: 1.6022\n",
      "Epoch: 7/25... Step: 950... Loss: 1.4824... Val Loss: 1.5949\n",
      "Epoch: 7/25... Step: 960... Loss: 1.4783... Val Loss: 1.5898\n",
      "Epoch: 7/25... Step: 970... Loss: 1.4861... Val Loss: 1.5879\n",
      "Epoch: 8/25... Step: 980... Loss: 1.4601... Val Loss: 1.5880\n",
      "Epoch: 8/25... Step: 990... Loss: 1.4525... Val Loss: 1.5802\n",
      "Epoch: 8/25... Step: 1000... Loss: 1.4451... Val Loss: 1.5761\n",
      "Epoch: 8/25... Step: 1010... Loss: 1.4800... Val Loss: 1.5785\n",
      "Epoch: 8/25... Step: 1020... Loss: 1.4578... Val Loss: 1.5796\n",
      "Epoch: 8/25... Step: 1030... Loss: 1.4498... Val Loss: 1.5720\n",
      "Epoch: 8/25... Step: 1040... Loss: 1.4442... Val Loss: 1.5676\n",
      "Epoch: 8/25... Step: 1050... Loss: 1.4423... Val Loss: 1.5800\n",
      "Epoch: 8/25... Step: 1060... Loss: 1.4338... Val Loss: 1.5731\n",
      "Epoch: 8/25... Step: 1070... Loss: 1.4427... Val Loss: 1.5667\n",
      "Epoch: 8/25... Step: 1080... Loss: 1.4309... Val Loss: 1.5683\n",
      "Epoch: 8/25... Step: 1090... Loss: 1.4229... Val Loss: 1.5572\n",
      "Epoch: 8/25... Step: 1100... Loss: 1.4060... Val Loss: 1.5530\n",
      "Epoch: 8/25... Step: 1110... Loss: 1.4254... Val Loss: 1.5606\n",
      "Epoch: 9/25... Step: 1120... Loss: 1.4237... Val Loss: 1.5539\n",
      "Epoch: 9/25... Step: 1130... Loss: 1.4318... Val Loss: 1.5559\n",
      "Epoch: 9/25... Step: 1140... Loss: 1.4283... Val Loss: 1.5517\n",
      "Epoch: 9/25... Step: 1150... Loss: 1.4499... Val Loss: 1.5530\n",
      "Epoch: 9/25... Step: 1160... Loss: 1.4039... Val Loss: 1.5403\n",
      "Epoch: 9/25... Step: 1170... Loss: 1.4085... Val Loss: 1.5390\n",
      "Epoch: 9/25... Step: 1180... Loss: 1.4079... Val Loss: 1.5412\n",
      "Epoch: 9/25... Step: 1190... Loss: 1.4464... Val Loss: 1.5408\n",
      "Epoch: 9/25... Step: 1200... Loss: 1.3854... Val Loss: 1.5339\n",
      "Epoch: 9/25... Step: 1210... Loss: 1.3917... Val Loss: 1.5329\n",
      "Epoch: 9/25... Step: 1220... Loss: 1.3893... Val Loss: 1.5351\n",
      "Epoch: 9/25... Step: 1230... Loss: 1.3784... Val Loss: 1.5293\n",
      "Epoch: 9/25... Step: 1240... Loss: 1.3865... Val Loss: 1.5290\n",
      "Epoch: 9/25... Step: 1250... Loss: 1.3917... Val Loss: 1.5315\n",
      "Epoch: 10/25... Step: 1260... Loss: 1.3927... Val Loss: 1.5252\n",
      "Epoch: 10/25... Step: 1270... Loss: 1.3869... Val Loss: 1.5211\n",
      "Epoch: 10/25... Step: 1280... Loss: 1.3953... Val Loss: 1.5139\n",
      "Epoch: 10/25... Step: 1290... Loss: 1.3803... Val Loss: 1.5129\n",
      "Epoch: 10/25... Step: 1300... Loss: 1.3732... Val Loss: 1.5203\n",
      "Epoch: 10/25... Step: 1310... Loss: 1.3908... Val Loss: 1.5155\n",
      "Epoch: 10/25... Step: 1320... Loss: 1.3510... Val Loss: 1.5166\n",
      "Epoch: 10/25... Step: 1330... Loss: 1.3538... Val Loss: 1.5097\n",
      "Epoch: 10/25... Step: 1340... Loss: 1.3487... Val Loss: 1.5088\n"
     ]
    },
    {
     "name": "stdout",
     "output_type": "stream",
     "text": [
      "Epoch: 10/25... Step: 1350... Loss: 1.3355... Val Loss: 1.5159\n",
      "Epoch: 10/25... Step: 1360... Loss: 1.3664... Val Loss: 1.5221\n",
      "Epoch: 10/25... Step: 1370... Loss: 1.3395... Val Loss: 1.5097\n",
      "Epoch: 10/25... Step: 1380... Loss: 1.3751... Val Loss: 1.5088\n",
      "Epoch: 10/25... Step: 1390... Loss: 1.3891... Val Loss: 1.5079\n",
      "Epoch: 11/25... Step: 1400... Loss: 1.3857... Val Loss: 1.5082\n",
      "Epoch: 11/25... Step: 1410... Loss: 1.4102... Val Loss: 1.4945\n",
      "Epoch: 11/25... Step: 1420... Loss: 1.3841... Val Loss: 1.4938\n",
      "Epoch: 11/25... Step: 1430... Loss: 1.3527... Val Loss: 1.4971\n",
      "Epoch: 11/25... Step: 1440... Loss: 1.3647... Val Loss: 1.4977\n",
      "Epoch: 11/25... Step: 1450... Loss: 1.3121... Val Loss: 1.4917\n",
      "Epoch: 11/25... Step: 1460... Loss: 1.3258... Val Loss: 1.4944\n",
      "Epoch: 11/25... Step: 1470... Loss: 1.3262... Val Loss: 1.4928\n",
      "Epoch: 11/25... Step: 1480... Loss: 1.3418... Val Loss: 1.4850\n",
      "Epoch: 11/25... Step: 1490... Loss: 1.3298... Val Loss: 1.4849\n",
      "Epoch: 11/25... Step: 1500... Loss: 1.3311... Val Loss: 1.4874\n",
      "Epoch: 11/25... Step: 1510... Loss: 1.3131... Val Loss: 1.4942\n",
      "Epoch: 11/25... Step: 1520... Loss: 1.3427... Val Loss: 1.4927\n",
      "Epoch: 12/25... Step: 1530... Loss: 1.3885... Val Loss: 1.4853\n",
      "Epoch: 12/25... Step: 1540... Loss: 1.3561... Val Loss: 1.4847\n",
      "Epoch: 12/25... Step: 1550... Loss: 1.3448... Val Loss: 1.4789\n",
      "Epoch: 12/25... Step: 1560... Loss: 1.3674... Val Loss: 1.4701\n",
      "Epoch: 12/25... Step: 1570... Loss: 1.3062... Val Loss: 1.4829\n",
      "Epoch: 12/25... Step: 1580... Loss: 1.2962... Val Loss: 1.4817\n",
      "Epoch: 12/25... Step: 1590... Loss: 1.2809... Val Loss: 1.4759\n",
      "Epoch: 12/25... Step: 1600... Loss: 1.3195... Val Loss: 1.4730\n",
      "Epoch: 12/25... Step: 1610... Loss: 1.3120... Val Loss: 1.4781\n",
      "Epoch: 12/25... Step: 1620... Loss: 1.2971... Val Loss: 1.4799\n",
      "Epoch: 12/25... Step: 1630... Loss: 1.3251... Val Loss: 1.4747\n",
      "Epoch: 12/25... Step: 1640... Loss: 1.3038... Val Loss: 1.4788\n",
      "Epoch: 12/25... Step: 1650... Loss: 1.2940... Val Loss: 1.4786\n",
      "Epoch: 12/25... Step: 1660... Loss: 1.3415... Val Loss: 1.4724\n",
      "Epoch: 13/25... Step: 1670... Loss: 1.2979... Val Loss: 1.4750\n",
      "Epoch: 13/25... Step: 1680... Loss: 1.3249... Val Loss: 1.4654\n",
      "Epoch: 13/25... Step: 1690... Loss: 1.2918... Val Loss: 1.4573\n",
      "Epoch: 13/25... Step: 1700... Loss: 1.2905... Val Loss: 1.4543\n",
      "Epoch: 13/25... Step: 1710... Loss: 1.2630... Val Loss: 1.4648\n",
      "Epoch: 13/25... Step: 1720... Loss: 1.2773... Val Loss: 1.4603\n",
      "Epoch: 13/25... Step: 1730... Loss: 1.3249... Val Loss: 1.4635\n",
      "Epoch: 13/25... Step: 1740... Loss: 1.2890... Val Loss: 1.4634\n",
      "Epoch: 13/25... Step: 1750... Loss: 1.2623... Val Loss: 1.4562\n",
      "Epoch: 13/25... Step: 1760... Loss: 1.2897... Val Loss: 1.4543\n",
      "Epoch: 13/25... Step: 1770... Loss: 1.3066... Val Loss: 1.4548\n",
      "Epoch: 13/25... Step: 1780... Loss: 1.2691... Val Loss: 1.4639\n",
      "Epoch: 13/25... Step: 1790... Loss: 1.2684... Val Loss: 1.4544\n",
      "Epoch: 13/25... Step: 1800... Loss: 1.3000... Val Loss: 1.4534\n",
      "Epoch: 14/25... Step: 1810... Loss: 1.3020... Val Loss: 1.4575\n",
      "Epoch: 14/25... Step: 1820... Loss: 1.2693... Val Loss: 1.4569\n",
      "Epoch: 14/25... Step: 1830... Loss: 1.3099... Val Loss: 1.4438\n",
      "Epoch: 14/25... Step: 1840... Loss: 1.2470... Val Loss: 1.4574\n",
      "Epoch: 14/25... Step: 1850... Loss: 1.2357... Val Loss: 1.4614\n",
      "Epoch: 14/25... Step: 1860... Loss: 1.2904... Val Loss: 1.4509\n",
      "Epoch: 14/25... Step: 1870... Loss: 1.2863... Val Loss: 1.4577\n",
      "Epoch: 14/25... Step: 1880... Loss: 1.2901... Val Loss: 1.4484\n",
      "Epoch: 14/25... Step: 1890... Loss: 1.2926... Val Loss: 1.4469\n",
      "Epoch: 14/25... Step: 1900... Loss: 1.2773... Val Loss: 1.4401\n",
      "Epoch: 14/25... Step: 1910... Loss: 1.2859... Val Loss: 1.4460\n",
      "Epoch: 14/25... Step: 1920... Loss: 1.2833... Val Loss: 1.4537\n",
      "Epoch: 14/25... Step: 1930... Loss: 1.2434... Val Loss: 1.4481\n",
      "Epoch: 14/25... Step: 1940... Loss: 1.3053... Val Loss: 1.4432\n",
      "Epoch: 15/25... Step: 1950... Loss: 1.2664... Val Loss: 1.4516\n",
      "Epoch: 15/25... Step: 1960... Loss: 1.2615... Val Loss: 1.4504\n",
      "Epoch: 15/25... Step: 1970... Loss: 1.2646... Val Loss: 1.4367\n",
      "Epoch: 15/25... Step: 1980... Loss: 1.2626... Val Loss: 1.4408\n",
      "Epoch: 15/25... Step: 1990... Loss: 1.2576... Val Loss: 1.4514\n",
      "Epoch: 15/25... Step: 2000... Loss: 1.2506... Val Loss: 1.4442\n",
      "Epoch: 15/25... Step: 2010... Loss: 1.2653... Val Loss: 1.4389\n",
      "Epoch: 15/25... Step: 2020... Loss: 1.2737... Val Loss: 1.4362\n",
      "Epoch: 15/25... Step: 2030... Loss: 1.2379... Val Loss: 1.4405\n",
      "Epoch: 15/25... Step: 2040... Loss: 1.2624... Val Loss: 1.4307\n",
      "Epoch: 15/25... Step: 2050... Loss: 1.2501... Val Loss: 1.4315\n",
      "Epoch: 15/25... Step: 2060... Loss: 1.2567... Val Loss: 1.4352\n",
      "Epoch: 15/25... Step: 2070... Loss: 1.2713... Val Loss: 1.4307\n",
      "Epoch: 15/25... Step: 2080... Loss: 1.2629... Val Loss: 1.4253\n",
      "Epoch: 16/25... Step: 2090... Loss: 1.2640... Val Loss: 1.4296\n",
      "Epoch: 16/25... Step: 2100... Loss: 1.2459... Val Loss: 1.4354\n",
      "Epoch: 16/25... Step: 2110... Loss: 1.2345... Val Loss: 1.4222\n",
      "Epoch: 16/25... Step: 2120... Loss: 1.2492... Val Loss: 1.4298\n",
      "Epoch: 16/25... Step: 2130... Loss: 1.2392... Val Loss: 1.4245\n",
      "Epoch: 16/25... Step: 2140... Loss: 1.2357... Val Loss: 1.4216\n",
      "Epoch: 16/25... Step: 2150... Loss: 1.2581... Val Loss: 1.4236\n",
      "Epoch: 16/25... Step: 2160... Loss: 1.2407... Val Loss: 1.4246\n",
      "Epoch: 16/25... Step: 2170... Loss: 1.2303... Val Loss: 1.4244\n",
      "Epoch: 16/25... Step: 2180... Loss: 1.2251... Val Loss: 1.4216\n",
      "Epoch: 16/25... Step: 2190... Loss: 1.2436... Val Loss: 1.4197\n",
      "Epoch: 16/25... Step: 2200... Loss: 1.2177... Val Loss: 1.4231\n",
      "Epoch: 16/25... Step: 2210... Loss: 1.1912... Val Loss: 1.4162\n",
      "Epoch: 16/25... Step: 2220... Loss: 1.2387... Val Loss: 1.4170\n",
      "Epoch: 17/25... Step: 2230... Loss: 1.2207... Val Loss: 1.4216\n",
      "Epoch: 17/25... Step: 2240... Loss: 1.2270... Val Loss: 1.4196\n",
      "Epoch: 17/25... Step: 2250... Loss: 1.2096... Val Loss: 1.4174\n",
      "Epoch: 17/25... Step: 2260... Loss: 1.2264... Val Loss: 1.4219\n",
      "Epoch: 17/25... Step: 2270... Loss: 1.2298... Val Loss: 1.4191\n",
      "Epoch: 17/25... Step: 2280... Loss: 1.2347... Val Loss: 1.4115\n",
      "Epoch: 17/25... Step: 2290... Loss: 1.2314... Val Loss: 1.4165\n",
      "Epoch: 17/25... Step: 2300... Loss: 1.1966... Val Loss: 1.4153\n",
      "Epoch: 17/25... Step: 2310... Loss: 1.2234... Val Loss: 1.4125\n",
      "Epoch: 17/25... Step: 2320... Loss: 1.2135... Val Loss: 1.4104\n",
      "Epoch: 17/25... Step: 2330... Loss: 1.2038... Val Loss: 1.4148\n",
      "Epoch: 17/25... Step: 2340... Loss: 1.2197... Val Loss: 1.4091\n",
      "Epoch: 17/25... Step: 2350... Loss: 1.2199... Val Loss: 1.4043\n",
      "Epoch: 17/25... Step: 2360... Loss: 1.2278... Val Loss: 1.4069\n",
      "Epoch: 18/25... Step: 2370... Loss: 1.2109... Val Loss: 1.4125\n",
      "Epoch: 18/25... Step: 2380... Loss: 1.2087... Val Loss: 1.4101\n",
      "Epoch: 18/25... Step: 2390... Loss: 1.2067... Val Loss: 1.4046\n",
      "Epoch: 18/25... Step: 2400... Loss: 1.2182... Val Loss: 1.4107\n",
      "Epoch: 18/25... Step: 2410... Loss: 1.2377... Val Loss: 1.4004\n",
      "Epoch: 18/25... Step: 2420... Loss: 1.2070... Val Loss: 1.4038\n",
      "Epoch: 18/25... Step: 2430... Loss: 1.2045... Val Loss: 1.4035\n",
      "Epoch: 18/25... Step: 2440... Loss: 1.2008... Val Loss: 1.3996\n",
      "Epoch: 18/25... Step: 2450... Loss: 1.1834... Val Loss: 1.4000\n",
      "Epoch: 18/25... Step: 2460... Loss: 1.1981... Val Loss: 1.3998\n",
      "Epoch: 18/25... Step: 2470... Loss: 1.2027... Val Loss: 1.4067\n",
      "Epoch: 18/25... Step: 2480... Loss: 1.1881... Val Loss: 1.3959\n",
      "Epoch: 18/25... Step: 2490... Loss: 1.1908... Val Loss: 1.3970\n",
      "Epoch: 18/25... Step: 2500... Loss: 1.1967... Val Loss: 1.4064\n",
      "Epoch: 19/25... Step: 2510... Loss: 1.2005... Val Loss: 1.4037\n",
      "Epoch: 19/25... Step: 2520... Loss: 1.2147... Val Loss: 1.3961\n",
      "Epoch: 19/25... Step: 2530... Loss: 1.2169... Val Loss: 1.4006\n",
      "Epoch: 19/25... Step: 2540... Loss: 1.2320... Val Loss: 1.4055\n",
      "Epoch: 19/25... Step: 2550... Loss: 1.1888... Val Loss: 1.4012\n",
      "Epoch: 19/25... Step: 2560... Loss: 1.2131... Val Loss: 1.3917\n",
      "Epoch: 19/25... Step: 2570... Loss: 1.1869... Val Loss: 1.3905\n",
      "Epoch: 19/25... Step: 2580... Loss: 1.2193... Val Loss: 1.4001\n",
      "Epoch: 19/25... Step: 2590... Loss: 1.1848... Val Loss: 1.4025\n",
      "Epoch: 19/25... Step: 2600... Loss: 1.1889... Val Loss: 1.3912\n",
      "Epoch: 19/25... Step: 2610... Loss: 1.1950... Val Loss: 1.4002\n",
      "Epoch: 19/25... Step: 2620... Loss: 1.1755... Val Loss: 1.3966\n",
      "Epoch: 19/25... Step: 2630... Loss: 1.1859... Val Loss: 1.3936\n",
      "Epoch: 19/25... Step: 2640... Loss: 1.1866... Val Loss: 1.3970\n",
      "Epoch: 20/25... Step: 2650... Loss: 1.1896... Val Loss: 1.3960\n"
     ]
    },
    {
     "name": "stdout",
     "output_type": "stream",
     "text": [
      "Epoch: 20/25... Step: 2660... Loss: 1.1960... Val Loss: 1.3909\n",
      "Epoch: 20/25... Step: 2670... Loss: 1.1994... Val Loss: 1.3938\n",
      "Epoch: 20/25... Step: 2680... Loss: 1.1836... Val Loss: 1.3944\n",
      "Epoch: 20/25... Step: 2690... Loss: 1.1919... Val Loss: 1.3912\n",
      "Epoch: 20/25... Step: 2700... Loss: 1.1929... Val Loss: 1.3946\n",
      "Epoch: 20/25... Step: 2710... Loss: 1.1600... Val Loss: 1.3915\n",
      "Epoch: 20/25... Step: 2720... Loss: 1.1686... Val Loss: 1.3922\n",
      "Epoch: 20/25... Step: 2730... Loss: 1.1608... Val Loss: 1.3877\n",
      "Epoch: 20/25... Step: 2740... Loss: 1.1587... Val Loss: 1.3923\n",
      "Epoch: 20/25... Step: 2750... Loss: 1.1694... Val Loss: 1.3928\n",
      "Epoch: 20/25... Step: 2760... Loss: 1.1578... Val Loss: 1.3940\n",
      "Epoch: 20/25... Step: 2770... Loss: 1.2052... Val Loss: 1.3846\n",
      "Epoch: 20/25... Step: 2780... Loss: 1.2305... Val Loss: 1.3902\n",
      "Epoch: 21/25... Step: 2790... Loss: 1.2063... Val Loss: 1.3864\n",
      "Epoch: 21/25... Step: 2800... Loss: 1.2137... Val Loss: 1.3818\n",
      "Epoch: 21/25... Step: 2810... Loss: 1.2160... Val Loss: 1.3807\n",
      "Epoch: 21/25... Step: 2820... Loss: 1.1869... Val Loss: 1.3925\n",
      "Epoch: 21/25... Step: 2830... Loss: 1.1946... Val Loss: 1.3885\n",
      "Epoch: 21/25... Step: 2840... Loss: 1.1375... Val Loss: 1.3899\n",
      "Epoch: 21/25... Step: 2850... Loss: 1.1705... Val Loss: 1.3846\n",
      "Epoch: 21/25... Step: 2860... Loss: 1.1467... Val Loss: 1.3878\n",
      "Epoch: 21/25... Step: 2870... Loss: 1.1739... Val Loss: 1.3892\n",
      "Epoch: 21/25... Step: 2880... Loss: 1.1583... Val Loss: 1.3909\n",
      "Epoch: 21/25... Step: 2890... Loss: 1.1648... Val Loss: 1.3895\n",
      "Epoch: 21/25... Step: 2900... Loss: 1.1445... Val Loss: 1.3901\n",
      "Epoch: 21/25... Step: 2910... Loss: 1.1788... Val Loss: 1.3820\n",
      "Epoch: 22/25... Step: 2920... Loss: 1.2971... Val Loss: 1.3868\n",
      "Epoch: 22/25... Step: 2930... Loss: 1.1883... Val Loss: 1.3825\n",
      "Epoch: 22/25... Step: 2940... Loss: 1.1868... Val Loss: 1.3755\n",
      "Epoch: 22/25... Step: 2950... Loss: 1.1960... Val Loss: 1.3787\n",
      "Epoch: 22/25... Step: 2960... Loss: 1.1589... Val Loss: 1.3934\n",
      "Epoch: 22/25... Step: 2970... Loss: 1.1471... Val Loss: 1.3816\n",
      "Epoch: 22/25... Step: 2980... Loss: 1.1327... Val Loss: 1.3876\n",
      "Epoch: 22/25... Step: 2990... Loss: 1.1504... Val Loss: 1.3860\n",
      "Epoch: 22/25... Step: 3000... Loss: 1.1422... Val Loss: 1.3826\n",
      "Epoch: 22/25... Step: 3010... Loss: 1.1399... Val Loss: 1.3830\n",
      "Epoch: 22/25... Step: 3020... Loss: 1.1750... Val Loss: 1.3799\n",
      "Epoch: 22/25... Step: 3030... Loss: 1.1474... Val Loss: 1.3834\n",
      "Epoch: 22/25... Step: 3040... Loss: 1.1353... Val Loss: 1.3913\n",
      "Epoch: 22/25... Step: 3050... Loss: 1.1843... Val Loss: 1.3763\n",
      "Epoch: 23/25... Step: 3060... Loss: 1.1617... Val Loss: 1.3842\n",
      "Epoch: 23/25... Step: 3070... Loss: 1.1699... Val Loss: 1.3904\n",
      "Epoch: 23/25... Step: 3080... Loss: 1.1479... Val Loss: 1.3799\n",
      "Epoch: 23/25... Step: 3090... Loss: 1.1620... Val Loss: 1.3772\n",
      "Epoch: 23/25... Step: 3100... Loss: 1.1373... Val Loss: 1.3895\n",
      "Epoch: 23/25... Step: 3110... Loss: 1.1427... Val Loss: 1.3887\n",
      "Epoch: 23/25... Step: 3120... Loss: 1.1730... Val Loss: 1.3895\n",
      "Epoch: 23/25... Step: 3130... Loss: 1.1496... Val Loss: 1.3859\n",
      "Epoch: 23/25... Step: 3140... Loss: 1.1095... Val Loss: 1.3799\n",
      "Epoch: 23/25... Step: 3150... Loss: 1.1410... Val Loss: 1.3830\n",
      "Epoch: 23/25... Step: 3160... Loss: 1.1683... Val Loss: 1.3878\n",
      "Epoch: 23/25... Step: 3170... Loss: 1.1396... Val Loss: 1.3866\n",
      "Epoch: 23/25... Step: 3180... Loss: 1.1290... Val Loss: 1.3846\n",
      "Epoch: 23/25... Step: 3190... Loss: 1.1585... Val Loss: 1.3732\n",
      "Epoch: 24/25... Step: 3200... Loss: 1.1605... Val Loss: 1.3821\n",
      "Epoch: 24/25... Step: 3210... Loss: 1.1358... Val Loss: 1.3773\n",
      "Epoch: 24/25... Step: 3220... Loss: 1.1608... Val Loss: 1.3718\n",
      "Epoch: 24/25... Step: 3230... Loss: 1.1178... Val Loss: 1.3764\n",
      "Epoch: 24/25... Step: 3240... Loss: 1.1078... Val Loss: 1.3810\n",
      "Epoch: 24/25... Step: 3250... Loss: 1.1447... Val Loss: 1.3884\n",
      "Epoch: 24/25... Step: 3260... Loss: 1.1633... Val Loss: 1.3852\n",
      "Epoch: 24/25... Step: 3270... Loss: 1.1611... Val Loss: 1.3823\n",
      "Epoch: 24/25... Step: 3280... Loss: 1.1556... Val Loss: 1.3849\n",
      "Epoch: 24/25... Step: 3290... Loss: 1.1456... Val Loss: 1.3771\n",
      "Epoch: 24/25... Step: 3300... Loss: 1.1371... Val Loss: 1.3800\n",
      "Epoch: 24/25... Step: 3310... Loss: 1.1380... Val Loss: 1.3878\n",
      "Epoch: 24/25... Step: 3320... Loss: 1.1204... Val Loss: 1.3827\n",
      "Epoch: 24/25... Step: 3330... Loss: 1.1755... Val Loss: 1.3826\n",
      "Epoch: 25/25... Step: 3340... Loss: 1.1429... Val Loss: 1.3881\n",
      "Epoch: 25/25... Step: 3350... Loss: 1.1341... Val Loss: 1.3860\n",
      "Epoch: 25/25... Step: 3360... Loss: 1.1201... Val Loss: 1.3785\n",
      "Epoch: 25/25... Step: 3370... Loss: 1.1339... Val Loss: 1.3765\n",
      "Epoch: 25/25... Step: 3380... Loss: 1.1353... Val Loss: 1.3853\n",
      "Epoch: 25/25... Step: 3390... Loss: 1.1229... Val Loss: 1.3748\n",
      "Epoch: 25/25... Step: 3400... Loss: 1.1411... Val Loss: 1.3746\n",
      "Epoch: 25/25... Step: 3410... Loss: 1.1355... Val Loss: 1.3790\n",
      "Epoch: 25/25... Step: 3420... Loss: 1.1261... Val Loss: 1.3723\n",
      "Epoch: 25/25... Step: 3430... Loss: 1.1338... Val Loss: 1.3678\n",
      "Epoch: 25/25... Step: 3440... Loss: 1.1253... Val Loss: 1.3778\n",
      "Epoch: 25/25... Step: 3450... Loss: 1.1378... Val Loss: 1.3835\n",
      "Epoch: 25/25... Step: 3460... Loss: 1.1449... Val Loss: 1.3884\n",
      "Epoch: 25/25... Step: 3470... Loss: 1.1502... Val Loss: 1.3695\n"
     ]
    }
   ],
   "source": [
    "n_seqs, n_steps = 128, 100\n",
    "\n",
    "# Change cuda to True to use a GPU!\n",
    "losses, val_losses = train(\n",
    "    net,\n",
    "    encoded,\n",
    "    epochs=25,\n",
    "    n_seqs=n_seqs,\n",
    "    n_steps=n_steps,\n",
    "    lr=0.001,\n",
    "    cuda=True,\n",
    "    print_every=10,\n",
    ")"
   ]
  },
  {
   "cell_type": "code",
   "execution_count": 50,
   "metadata": {},
   "outputs": [],
   "source": [
    "import matplotlib.pyplot as plt"
   ]
  },
  {
   "cell_type": "code",
   "execution_count": 52,
   "metadata": {},
   "outputs": [
    {
     "data": {
      "text/plain": [
       "[<matplotlib.lines.Line2D at 0x7f73cc8df290>]"
      ]
     },
     "execution_count": 52,
     "metadata": {},
     "output_type": "execute_result"
    },
    {
     "data": {
      "image/png": "[encoded data removed]",
      "text/plain": [
       "<Figure size 432x288 with 1 Axes>"
      ]
     },
     "metadata": {
      "needs_background": "light"
     },
     "output_type": "display_data"
    }
   ],
   "source": [
    "plt.plot(losses)"
   ]
  },
  {
   "cell_type": "code",
   "execution_count": 53,
   "metadata": {},
   "outputs": [
    {
     "data": {
      "text/plain": [
       "[<matplotlib.lines.Line2D at 0x7f73cc86bc10>]"
      ]
     },
     "execution_count": 53,
     "metadata": {},
     "output_type": "execute_result"
    },
    {
     "data": {
      "image/png": "[encoded data removed]",
      "text/plain": [
       "<Figure size 432x288 with 1 Axes>"
      ]
     },
     "metadata": {
      "needs_background": "light"
     },
     "output_type": "display_data"
    }
   ],
   "source": [
    "plt.plot(val_losses)"
   ]
  },
  {
   "cell_type": "markdown",
   "metadata": {},
   "source": [
    "## Getting the best model\n",
    "\n",
    "To set the hyperparameters to get the best performance, we'll want to watch the training and validation losses. If our training loss is much lower than the validation loss, we're overfitting. We can increase regularization (more dropout) or use a smaller network to alleviate this. If the training and validation losses are close, we're underfitting so we can increase the size of the network."
   ]
  },
  {
   "cell_type": "markdown",
   "metadata": {},
   "source": [
    "## Hyperparameters\n",
    "\n",
    "Here are the hyperparameters for the network.\n",
    "\n",
    "In defining the model:\n",
    "* `n_hidden` - The number of units in the hidden layers.\n",
    "* `n_layers` - Number of hidden LSTM layers to use.\n",
    "\n",
    "We assume that dropout probability and learning rate will be kept at the default, in this example.\n",
    "\n",
    "And in training:\n",
    "* `n_seqs` - Number of sequences running through the network in one pass.\n",
    "* `n_steps` - Number of characters in the sequence the network is trained on. Larger is better typically, the network will learn more long range dependencies. But it takes longer to train. 100 is typically a good number here.\n",
    "* `lr` - Learning rate for training\n",
    "\n",
    "Here's some good advice from Andrej Karpathy on training the network. I'm going to copy it in here, but also link to [where it originally came from](https://github.com/karpathy/char-rnn#tips-and-tricks).\n",
    "\n",
    "> ## Tips and Tricks\n",
    "\n",
    ">### Monitoring Validation Loss vs. Training Loss\n",
    ">If you're somewhat new to Machine Learning or Neural Networks it can take a bit of expertise to get good models. The most important quantity to keep track of is the difference between your training loss (printed during training) and the validation loss (printed once in a while when the RNN is run on the validation data (by default every 1000 iterations)). In particular:\n",
    "\n",
    "> - If your training loss is much lower than validation loss then this means the network might be **overfitting**. Solutions to this are to decrease your network size, or to increase dropout. For example you could try dropout of 0.5 and so on.\n",
    "> - If your training/validation loss are about equal then your model is **underfitting**. Increase the size of your model (either number of layers or the raw number of neurons per layer)\n",
    "\n",
    "> ### Approximate number of parameters\n",
    "\n",
    "> The two most important parameters that control the model are `n_hidden` and `n_layers`. I would advise that you always use `n_layers` of either 2/3. The `n_hidden` can be adjusted based on how much data you have. The two important quantities to keep track of here are:\n",
    "\n",
    "> - The number of parameters in your model. This is printed when you start training.\n",
    "> - The size of your dataset. 1MB file is approximately 1 million characters.\n",
    "\n",
    ">These two should be about the same order of magnitude. It's a little tricky to tell. Here are some examples:\n",
    "\n",
    "> - I have a 100MB dataset and I'm using the default parameter settings (which currently print 150K parameters). My data size is significantly larger (100 mil >> 0.15 mil), so I expect to heavily underfit. I am thinking I can comfortably afford to make `n_hidden` larger.\n",
    "> - I have a 10MB dataset and running a 10 million parameter model. I'm slightly nervous and I'm carefully monitoring my validation loss. If it's larger than my training loss then I may want to try to increase dropout a bit and see if that helps the validation loss.\n",
    "\n",
    "> ### Best models strategy\n",
    "\n",
    ">The winning strategy to obtaining very good models (if you have the compute time) is to always err on making the network larger (as large as you're willing to wait for it to compute) and then try different dropout values (between 0,1). Whatever model has the best validation performance (the loss, written in the checkpoint filename, low is good) is the one you should use in the end.\n",
    "\n",
    ">It is very common in deep learning to run many different models with many different hyperparameter settings, and in the end take whatever checkpoint gave the best validation performance.\n",
    "\n",
    ">By the way, the size of your training and validation splits are also parameters. Make sure you have a decent amount of data in your validation set or otherwise the validation performance will be noisy and not very informative."
   ]
  },
  {
   "cell_type": "markdown",
   "metadata": {},
   "source": [
    "After training, we'll save the model so we can load it again later if we need too. Here I'm saving the parameters needed to create the same architecture, the hidden layer hyperparameters and the text characters."
   ]
  },
  {
   "cell_type": "code",
   "execution_count": 38,
   "metadata": {},
   "outputs": [],
   "source": [
    "# !mkdir models"
   ]
  },
  {
   "cell_type": "code",
   "execution_count": 54,
   "metadata": {},
   "outputs": [],
   "source": [
    "# change the name, for saving multiple files\n",
    "model_path = os.path.join(\"models\", \"lstm_25_epochs.net\")\n",
    "\n",
    "checkpoint = {\n",
    "    \"n_hidden\": net.n_hidden,\n",
    "    \"n_layers\": net.n_layers,\n",
    "    \"state_dict\": net.state_dict(),\n",
    "    \"tokens\": net.chars,\n",
    "}\n",
    "\n",
    "with open(model_path, \"wb\") as f:\n",
    "    torch.save(checkpoint, f)"
   ]
  },
  {
   "cell_type": "markdown",
   "metadata": {},
   "source": [
    "## Sampling\n",
    "\n",
    "Now that the model is trained, we'll want to sample from it. To sample, we pass in a character and have the network predict the next character. Then we take that character, pass it back in, and get another predicted character. Just keep doing this and we'll generate a bunch of text!\n",
    "\n",
    "### Top K sampling\n",
    "\n",
    "Our predictions come from a categorical probability distribution over all the possible characters. We can make the sample text and make it more reasonable to handle (with less variables) by only considering some $K$ most probable characters. This will prevent the network from giving us completely absurd characters while allowing it to introduce some noise and randomness into the sampled text.\n",
    "\n",
    "Typically we want to prime the network so we can build up a hidden state. Otherwise, the network will start out generating characters at random. In general the first bunch of characters will be a little rough since it hasn't built up a long history of characters to predict from."
   ]
  },
  {
   "cell_type": "code",
   "execution_count": 55,
   "metadata": {},
   "outputs": [],
   "source": [
    "def sample(net, size, prime=\"The\", top_k=None, cuda=False):\n",
    "\n",
    "    if cuda:\n",
    "        net.cuda()\n",
    "    else:\n",
    "        net.cpu()\n",
    "\n",
    "    net.eval()\n",
    "\n",
    "    # First off, run through the prime characters\n",
    "    chars = [ch for ch in prime]\n",
    "    h = net.init_hidden(1)\n",
    "    for ch in prime:\n",
    "        char, h = net.predict(ch, h, cuda=cuda, top_k=top_k)\n",
    "\n",
    "    chars.append(char)\n",
    "\n",
    "    # Now pass in the previous character and get a new one\n",
    "    for ii in range(size):\n",
    "        char, h = net.predict(chars[-1], h, cuda=cuda, top_k=top_k)\n",
    "        chars.append(char)\n",
    "\n",
    "    return \"\".join(chars)"
   ]
  },
  {
   "cell_type": "code",
   "execution_count": 56,
   "metadata": {},
   "outputs": [
    {
     "name": "stdout",
     "output_type": "stream",
     "text": [
      "Anna.\"\n",
      "\n",
      "\"You can be in a part of interest. I want to see you! I'm going about it,\" he\n",
      "said. \"I could not speak from you, who would be those party the side.\"\n",
      "\n",
      "\"Yes,\" said Stepan Arkadyevitch. \"As you say there.\"\n",
      "\n",
      "Anna said that thought of the fealing of that she had any one thing\n",
      "in speating of a principle of happiness to be. In the same time, they\n",
      "went up and would be at the country. He had not been a moment of signing in\n",
      "the simplicity of the wearther in spotion with her. She would be in second\n",
      "a moment. He considered this soul, who could both that that he had not\n",
      "said, that the waiters had been perfectly carched a death in her. But the\n",
      "world was a perfect angry. A choochands were carried into the money which the\n",
      "partition was standing in the side of the feel. He confined the town, he\n",
      "had never been so thinking of all is there and sentratuats in his\n",
      "breadings, he would have said, as the same time he was there at the\n",
      "sound, and he had not come, with his wife and her eyes were coming to the\n",
      "chillren, and that he had studied and saw that her hand and her striggers,\n",
      "work that is to be already in a passed on one of the same short impression\n",
      "to the sound of that she did not take him to her. And what was still\n",
      "might be better to see him that touching his hand at the same time,\n",
      "when the parance, throw on the class.\n",
      "\n",
      "\"Well, while I such a musical tour about any sounder all of my silence that\n",
      "had to go on in the country?\"\n",
      "\n",
      "\"Oh, I could have means to do a matter to make you some time.\"\n",
      "\n",
      "\"Oh! I were going to bode. I'm sorry for the. I shall go and consider that\n",
      "though a man who, this could be at the painter,\" said the old\n",
      "man, that was the more from the service, who had been almost sight, and\n",
      "had not to bought a cold bart. She came up. At those whom, some dinence,\n",
      "to be supposed. He was sennial time to take the side. The chincess\n",
      "struck her he would be sent and defend that the country, wished from her\n",
      "side of his suffering and should not be a place, and so aware of the\n",
      "money though\n"
     ]
    }
   ],
   "source": [
    "print(sample(net, 2000, prime=\"Anna\", top_k=5, cuda=True))"
   ]
  },
  {
   "cell_type": "markdown",
   "metadata": {},
   "source": [
    "## Loading a checkpoint"
   ]
  },
  {
   "cell_type": "code",
   "execution_count": 31,
   "metadata": {},
   "outputs": [
    {
     "data": {
      "text/plain": [
       "<All keys matched successfully>"
      ]
     },
     "execution_count": 31,
     "metadata": {},
     "output_type": "execute_result"
    }
   ],
   "source": [
    "# Here we have loaded in a model that trained over 1 epoch `rnn_1_epoch.net`\n",
    "with open(os.path.join(\"models\", \"rnn_1_epoch.net\"), \"rb\") as f:\n",
    "    checkpoint = torch.load(f)\n",
    "\n",
    "loaded = CharRNN(\n",
    "    checkpoint[\"tokens\"],\n",
    "    n_hidden=checkpoint[\"n_hidden\"],\n",
    "    n_layers=checkpoint[\"n_layers\"],\n",
    ")\n",
    "loaded.load_state_dict(checkpoint[\"state_dict\"])"
   ]
  },
  {
   "cell_type": "code",
   "execution_count": 32,
   "metadata": {},
   "outputs": [
    {
     "name": "stdout",
     "output_type": "stream",
     "text": [
      "And Levin said toned to me pron the wong te toot thise, at an has teed on wher athad he his and the comen ar thend of the saind, her and her sat of on hired his wat ond ties he adist ther toud the poras of ha shas ad thould and he sad dount har hid doud to me sead anding, be she sang, to thas igtane homese tound ther wath her ond the has torene than warend\n",
      "ther and the conder to her ones of ard ithin wal thang and of ther to he mand aston so har wersted he med ored in the hera don wate hat and alder tored th mer and or sing ounthe shid.\n",
      "Ho shemed one whe tad tone wared overe sald asding him she ande heres, ate to thine toul aled ond te to ha mer toun the wand ovicante sited.\n",
      "\n",
      "Inte toully. Tond te and an to thand the was ta ther ad\n",
      "astheres fom the tat ond, hat don ther as artane wat of the cane to men at ofrering thet in that the to to this iferes ald thin has and at the care her the\n",
      "\n",
      "hous thar ald at the heresed tor ane as of at her omer, and\n",
      "sitile, thit as hiss in atid at in the cond on him hand and on the talithe\n",
      "her, add ithad houd but the has to san areraded the sated and the paraist ing him ong ast on the was hind he shered that on and to tou sater se at in at as ind\n",
      "on tha cont tin wilt to me ant anter, andithe thing, handere wor ale, and his wale th the sellongid singer, had dorid she chared.\n",
      "\"I show hat arthers, he aned, an he maringere she\n",
      "wall, sanders, ting hin\n",
      "tas wast, woth whon whish wele allove the thed and of ho mast ther to hed toont on to te he has andene te the hate wang on tall wher whit he an wout at of thimerang of at on the see tal taringit of thinge thim, hit he sordintis the could hed ont he wimle and\n",
      "the cumlatind wore she has\n",
      "sinding, and aserongind tione he had dean the she as toren wand to mass and the said the west and he mand singed. \"Wer of tin hed the sand soud, wor has ind he too tere the the chand and siond ande har ang ous the\n",
      "thing sto ta ha dion touled on the sared ond wart had sait he tion with athered,\"\n",
      "her she arindere to thor wing thane \n"
     ]
    }
   ],
   "source": [
    "print(sample(loaded, 2000, cuda=False, top_k=5, prime=\"And Levin said\"))"
   ]
  }
 ],
 "metadata": {
  "kernelspec": {
   "display_name": "Python 3 (ipykernel)",
   "language": "python",
   "name": "python3"
  },
  "language_info": {
   "codemirror_mode": {
    "name": "ipython",
    "version": 3
   },
   "file_extension": ".py",
   "mimetype": "text/x-python",
   "name": "python",
   "nbconvert_exporter": "python",
   "pygments_lexer": "ipython3",
   "version": "3.7.10"
  },
  "varInspector": {
   "cols": {
    "lenName": 16,
    "lenType": 16,
    "lenVar": 40
   },
   "kernels_config": {
    "python": {
     "delete_cmd_postfix": "",
     "delete_cmd_prefix": "del ",
     "library": "var_list.py",
     "varRefreshCmd": "print(var_dic_list())"
    },
    "r": {
     "delete_cmd_postfix": ") ",
     "delete_cmd_prefix": "rm(",
     "library": "var_list.r",
     "varRefreshCmd": "cat(var_dic_list()) "
    }
   },
   "types_to_exclude": [
    "module",
    "function",
    "builtin_function_or_method",
    "instance",
    "_Feature"
   ],
   "window_display": false
  }
 },
 "nbformat": 4,
 "nbformat_minor": 2
}
